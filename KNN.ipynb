{
 "cells": [
  {
   "cell_type": "markdown",
   "id": "5dfbd67e",
   "metadata": {},
   "source": [
    "# K Nearest Neighbours from Scratch\n"
   ]
  },
  {
   "cell_type": "code",
   "execution_count": 44,
   "id": "f6650489",
   "metadata": {},
   "outputs": [],
   "source": [
    "import numpy as np"
   ]
  },
  {
   "cell_type": "code",
   "execution_count": 45,
   "id": "790d71c5",
   "metadata": {},
   "outputs": [],
   "source": [
    "data = np.array([\n",
    "    [150, 7.0, 1, 'Apple'],\n",
    "    [120, 6.5, 0, 'Banana'],\n",
    "    [180, 7.5, 2, 'Orange'],\n",
    "    [155, 7.2, 1, 'Apple'],\n",
    "    [110, 6.0, 0, 'Banana'],\n",
    "    [190, 7.8, 2, 'Orange'],\n",
    "    [145, 7.1, 1, 'Apple'],\n",
    "    [115, 6.3, 0, 'Banana']\n",
    "])\n"
   ]
  },
  {
   "cell_type": "code",
   "execution_count": 46,
   "id": "06335035",
   "metadata": {},
   "outputs": [
    {
     "data": {
      "text/plain": [
       "(8, 4)"
      ]
     },
     "execution_count": 46,
     "metadata": {},
     "output_type": "execute_result"
    }
   ],
   "source": [
    "data.shape"
   ]
  },
  {
   "cell_type": "code",
   "execution_count": 47,
   "id": "04610ebb",
   "metadata": {},
   "outputs": [],
   "source": [
    "X= data[:,:-1].astype(np.float32)\n",
    "y = data[:,-1]"
   ]
  },
  {
   "cell_type": "code",
   "execution_count": 48,
   "id": "31784ea2",
   "metadata": {},
   "outputs": [],
   "source": [
    "label_encoding = {'Apple':0,'Banana':1,'Orange':2}\n",
    "for i  in range(len(y)):\n",
    "    y[i] = label_encoding[y[i]]\n",
    "\n",
    "y = y.astype(np.int32)"
   ]
  },
  {
   "cell_type": "code",
   "execution_count": 49,
   "id": "0c1f24a7",
   "metadata": {},
   "outputs": [
    {
     "data": {
      "text/plain": [
       "array([[150. ,   7. ,   1. ],\n",
       "       [120. ,   6.5,   0. ],\n",
       "       [180. ,   7.5,   2. ],\n",
       "       [155. ,   7.2,   1. ],\n",
       "       [110. ,   6. ,   0. ],\n",
       "       [190. ,   7.8,   2. ],\n",
       "       [145. ,   7.1,   1. ],\n",
       "       [115. ,   6.3,   0. ]], dtype=float32)"
      ]
     },
     "execution_count": 49,
     "metadata": {},
     "output_type": "execute_result"
    }
   ],
   "source": [
    "X"
   ]
  },
  {
   "cell_type": "code",
   "execution_count": 50,
   "id": "6dfc40a4",
   "metadata": {},
   "outputs": [
    {
     "data": {
      "text/plain": [
       "array([0, 1, 2, 0, 1, 2, 0, 1], dtype=int32)"
      ]
     },
     "execution_count": 50,
     "metadata": {},
     "output_type": "execute_result"
    }
   ],
   "source": [
    "y"
   ]
  },
  {
   "cell_type": "code",
   "execution_count": 51,
   "id": "5ea5b5ec",
   "metadata": {},
   "outputs": [
    {
     "name": "stdout",
     "output_type": "stream",
     "text": [
      "30.02082610455615\n"
     ]
    }
   ],
   "source": [
    "def normDistance(x,y,l):\n",
    "    n = len(x)\n",
    "    sum =0\n",
    " \n",
    "    for i in range(n):\n",
    "        sum += np.abs((x[i] - y[i]))**l\n",
    "    \n",
    "    return np.sqrt(sum)\n",
    "\n",
    "print(normDistance(X[0],X[1],2))\n"
   ]
  },
  {
   "cell_type": "code",
   "execution_count": 52,
   "id": "952a70cf",
   "metadata": {},
   "outputs": [],
   "source": [
    "# Takes an array and return indices of k smallest elements in theta(nk) time \n",
    "\n",
    "def k_smallest_indices(arr,k):\n",
    "\n",
    "\n",
    "    arr_index_map = []\n",
    "    \n",
    "    n = len(arr)\n",
    "    for i in range(n):\n",
    "        arr_index_map.append([i,arr[i]])\n",
    "    \n",
    "    smallest_indices = []\n",
    "\n",
    "    for i in range(k):\n",
    "        for j in range(0,n-i-1):\n",
    "            if arr_index_map[j][1]< arr_index_map[j+1][1]:\n",
    "                arr_index_map[j] ,arr_index_map[j+1] = arr_index_map[j+1] , arr_index_map[j]\n",
    "    \n",
    "        smallest_indices.append(arr_index_map[n-i-1][0])\n",
    "    return smallest_indices\n"
   ]
  },
  {
   "cell_type": "code",
   "execution_count": 53,
   "id": "1fb034d1",
   "metadata": {},
   "outputs": [],
   "source": [
    "class KNeighborsClassifier:\n",
    "    def __init__(self,k=3,distance_metric =2,isWeighted=False):\n",
    "        self.n_neighbors = k\n",
    "        self.X_train = None\n",
    "        self.y_train = None\n",
    "        self.distance_metric = distance_metric\n",
    "        self.inverse_distance_weighted_classification = isWeighted\n",
    "\n",
    "\n",
    "    def fit(self,X,y):\n",
    "        self.X_train = X\n",
    "        self.y_train =  y\n",
    "\n",
    "    def predict(self,X_test):\n",
    "        predict_labels = []\n",
    "        for x_test in X_test: \n",
    "            predict_labels.append(self.predict_one(x_test))\n",
    "        return np.array(predict_labels)\n",
    "    \n",
    "    def predict_one(self, x):\n",
    "         \n",
    "    \n",
    "        distances = np.array([normDistance(x,x_train,self.distance_metric) for x_train in self.X_train])\n",
    "        xnn = k_smallest_indices(distances,self.n_neighbors)\n",
    "        ynn = self.y_train[xnn]  \n",
    "        if self.inverse_distance_weighted_classification ==False:\n",
    "           labels,counts = np.unique(ynn,return_counts=True)\n",
    "           predict_label = labels[np.argmax(counts)] \n",
    "           return predict_label\n",
    "        else:\n",
    "            k_smallest_distances =distances[xnn]\n",
    "\n",
    "            # Each ynn is given weightage inversely corresponding to it's distance\n",
    "            \n",
    "            weights = np.array([1/distance for distance in k_smallest_distances])\n",
    "        \n",
    "\n",
    "            classes = np.unique(self.y_train)\n",
    "            contributions = np.zeros(np.size(classes))\n",
    "      \n",
    "\n",
    "            for i in range(self.n_neighbors):\n",
    "                contributions[ynn[i]] += weights[i]\n",
    "\n",
    "\n",
    "            \n",
    "            #The class with most contribution\n",
    "            return np.argmax(contributions)\n",
    "    \n",
    "\n",
    "    \n",
    "\n",
    "    \n",
    "        \n",
    "\n",
    "        \n",
    "\n",
    "\n",
    "\n",
    "\n",
    "\n",
    "\n",
    "\n"
   ]
  },
  {
   "cell_type": "markdown",
   "id": "5fc66e1b",
   "metadata": {},
   "source": [
    "# Testing the Classifier"
   ]
  },
  {
   "cell_type": "code",
   "execution_count": 54,
   "id": "27b4b873",
   "metadata": {},
   "outputs": [
    {
     "data": {
      "text/plain": [
       "array([1, 0, 2])"
      ]
     },
     "execution_count": 54,
     "metadata": {},
     "output_type": "execute_result"
    }
   ],
   "source": [
    "X_test = np.array([\n",
    "    [118, 6.2, 0],  # Expected: Banana\n",
    "    [160, 7.3, 1],  # Expected: Apple\n",
    "    [185, 7.7, 2]   # Expected: Orange\n",
    "])\n",
    "y_test = np.array([1,0,2])\n",
    "y_test\n"
   ]
  },
  {
   "cell_type": "code",
   "execution_count": 55,
   "id": "b99c279d",
   "metadata": {},
   "outputs": [
    {
     "name": "stdout",
     "output_type": "stream",
     "text": [
      "[1 0 2]\n"
     ]
    }
   ],
   "source": [
    "my_knn = KNeighborsClassifier(3,2)\n",
    "my_knn.fit(X,y)\n",
    "\n",
    "y_pred = my_knn.predict(X_test)\n",
    "\n",
    "print(y_pred)"
   ]
  },
  {
   "cell_type": "code",
   "execution_count": 56,
   "id": "b978f179",
   "metadata": {},
   "outputs": [
    {
     "data": {
      "text/plain": [
       "0"
      ]
     },
     "execution_count": 56,
     "metadata": {},
     "output_type": "execute_result"
    }
   ],
   "source": [
    "my_knn.predict_one(X_test[1])"
   ]
  },
  {
   "cell_type": "markdown",
   "id": "4d8c9d92",
   "metadata": {},
   "source": [
    "# Evaluation"
   ]
  },
  {
   "cell_type": "code",
   "execution_count": 57,
   "id": "2951547e",
   "metadata": {},
   "outputs": [],
   "source": [
    "def accuracy(y,y_hat):\n",
    "    return (np.sum(y == y_hat)/np.size(y) )*100\n",
    "    "
   ]
  },
  {
   "cell_type": "code",
   "execution_count": 58,
   "id": "881a2aae",
   "metadata": {},
   "outputs": [
    {
     "name": "stdout",
     "output_type": "stream",
     "text": [
      "100.0\n"
     ]
    }
   ],
   "source": [
    "print(accuracy(y_test,y_pred))"
   ]
  },
  {
   "cell_type": "markdown",
   "id": "9c33b37a",
   "metadata": {},
   "source": [
    "### Observing by changing the values of k"
   ]
  },
  {
   "cell_type": "code",
   "execution_count": 59,
   "id": "97c6e6aa",
   "metadata": {},
   "outputs": [
    {
     "name": "stdout",
     "output_type": "stream",
     "text": [
      "K :1 , Accuracy : 100.0\n",
      "K :3 , Accuracy : 100.0\n",
      "K :5 , Accuracy : 100.0\n"
     ]
    }
   ],
   "source": [
    "k_values = [1,3,5]\n",
    "for k in k_values:\n",
    "    my_knn = KNeighborsClassifier(3)\n",
    "    my_knn.fit(X,y)\n",
    "    y_pred = my_knn.predict(X_test)\n",
    "    print(f'K :{k} , Accuracy : {accuracy(y_test,y_pred)}')\n",
    "    "
   ]
  },
  {
   "cell_type": "code",
   "execution_count": 60,
   "id": "6bfc6815",
   "metadata": {},
   "outputs": [],
   "source": [
    "## Observation by changing the distance metric while keeping the k =3 "
   ]
  },
  {
   "cell_type": "code",
   "execution_count": 61,
   "id": "ca84e4b1",
   "metadata": {},
   "outputs": [
    {
     "name": "stdout",
     "output_type": "stream",
     "text": [
      " Distance Metric : l_0 ,  K :3 , Accuracy : 100.0\n",
      " Distance Metric : l_1 ,  K :3 , Accuracy : 100.0\n",
      " Distance Metric : l_2 ,  K :3 , Accuracy : 100.0\n"
     ]
    }
   ],
   "source": [
    "distance_metrics =[0,1,2]\n",
    "for distance_metric in distance_metrics:\n",
    "    myknn = KNeighborsClassifier(3,distance_metric)\n",
    "    my_knn.fit(X,y)\n",
    "    y_pred = my_knn.predict(X_test)\n",
    "    print(f' Distance Metric : l_{distance_metric} ,  K :{3} , Accuracy : {accuracy(y_test,y_pred)}')\n",
    "\n",
    "\n"
   ]
  },
  {
   "cell_type": "markdown",
   "id": "53cf55f3",
   "metadata": {},
   "source": [
    "# Weighted KNN"
   ]
  },
  {
   "cell_type": "code",
   "execution_count": 62,
   "id": "8ab75898",
   "metadata": {},
   "outputs": [
    {
     "name": "stdout",
     "output_type": "stream",
     "text": [
      "[1 0 2]\n",
      "100.0\n"
     ]
    }
   ],
   "source": [
    "# Implemented weighted KNN \n",
    "\n",
    "\n",
    "my_knn = KNeighborsClassifier(3,2,True)\n",
    "my_knn.fit(X,y)\n",
    "\n",
    "y_pred = my_knn.predict(X_test)\n",
    "\n",
    "print(y_pred)\n",
    "print(accuracy(y_test,y_pred))\n"
   ]
  }
 ],
 "metadata": {
  "kernelspec": {
   "display_name": "base",
   "language": "python",
   "name": "python3"
  },
  "language_info": {
   "codemirror_mode": {
    "name": "ipython",
    "version": 3
   },
   "file_extension": ".py",
   "mimetype": "text/x-python",
   "name": "python",
   "nbconvert_exporter": "python",
   "pygments_lexer": "ipython3",
   "version": "3.8.3"
  }
 },
 "nbformat": 4,
 "nbformat_minor": 5
}
