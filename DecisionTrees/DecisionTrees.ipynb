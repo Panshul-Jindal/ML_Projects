{
 "cells": [
  {
   "cell_type": "markdown",
   "id": "cdaf23ed",
   "metadata": {},
   "source": [
    "# Decision Trees from Scratch"
   ]
  },
  {
   "cell_type": "code",
   "execution_count": 769,
   "id": "f72583de",
   "metadata": {},
   "outputs": [],
   "source": [
    "import numpy as np"
   ]
  },
  {
   "cell_type": "code",
   "execution_count": 770,
   "id": "a4c25032",
   "metadata": {},
   "outputs": [],
   "source": [
    "data = np.array([\n",
    "    [12.0, 1.5, 1, 'Wine'],\n",
    "    [5.0, 2.0, 0, 'Beer'],\n",
    "    [40.0, 0.0, 1, 'Whiskey'],\n",
    "    [13.5, 1.2, 1, 'Wine'],\n",
    "    [4.5, 1.8, 0, 'Beer'],\n",
    "    [38.0, 0.1, 1, 'Whiskey'],\n",
    "    [11.5, 1.7, 1, 'Wine'],\n",
    "    [5.5, 2.3, 0, 'Beer']\n",
    "])\n",
    "\n"
   ]
  },
  {
   "cell_type": "code",
   "execution_count": 771,
   "id": "6b096793",
   "metadata": {},
   "outputs": [
    {
     "data": {
      "text/plain": [
       "array([['12.0', '1.5', '1', 'Wine'],\n",
       "       ['5.0', '2.0', '0', 'Beer'],\n",
       "       ['40.0', '0.0', '1', 'Whiskey'],\n",
       "       ['13.5', '1.2', '1', 'Wine'],\n",
       "       ['4.5', '1.8', '0', 'Beer'],\n",
       "       ['38.0', '0.1', '1', 'Whiskey'],\n",
       "       ['11.5', '1.7', '1', 'Wine'],\n",
       "       ['5.5', '2.3', '0', 'Beer']], dtype='<U32')"
      ]
     },
     "execution_count": 771,
     "metadata": {},
     "output_type": "execute_result"
    }
   ],
   "source": [
    "data"
   ]
  },
  {
   "cell_type": "markdown",
   "id": "6c1afff9",
   "metadata": {},
   "source": [
    "# Encode the Dataset"
   ]
  },
  {
   "cell_type": "code",
   "execution_count": 772,
   "id": "25141a25",
   "metadata": {},
   "outputs": [],
   "source": [
    "X= data[:,:-1].astype(np.float32)\n",
    "y = data[:,-1]\n",
    "\n",
    "label_encoding = {'Beer':0,'Wine':1,'Whiskey':2}\n",
    "label_decoding = {0:'Beer',1:'Wine',2:'Whiskey'}\n",
    "for i  in range(len(y)):\n",
    "    y[i] = label_encoding[y[i]]\n",
    "\n",
    "y = y.astype(np.int32)\n",
    "\n"
   ]
  },
  {
   "cell_type": "markdown",
   "id": "ccb6323b",
   "metadata": {},
   "source": [
    "# Gini Impurity\n"
   ]
  },
  {
   "cell_type": "code",
   "execution_count": 773,
   "id": "f4b9135b",
   "metadata": {},
   "outputs": [],
   "source": [
    "def giniImpurity(labels):\n",
    "    n = np.size(labels)\n",
    "    _,counts = np.unique(labels,return_counts=True)\n",
    "    probabilites = counts/n\n",
    "\n",
    "    sum = 0\n",
    "    for p_i in probabilites:\n",
    "        sum += p_i **2\n",
    "\n",
    "    return 1 -sum\n",
    "\n",
    "\n",
    "\n"
   ]
  },
  {
   "cell_type": "markdown",
   "id": "f97e76e1",
   "metadata": {},
   "source": [
    "# Best Split Finder"
   ]
  },
  {
   "cell_type": "code",
   "execution_count": 774,
   "id": "a64e3510",
   "metadata": {},
   "outputs": [],
   "source": [
    "def bestSplitFinder(X,y):\n",
    "\n",
    "   features_min_impurities = []\n",
    "   features_corresponding_thresholds = []\n",
    "\n",
    "\n",
    "   for col in range(X.shape[1]):\n",
    "      vals = X[:,col]\n",
    "      unique_vals = np.unique(vals)\n",
    "      n = np.size(unique_vals)\n",
    "      thresholds=[]\n",
    "      if(np.size(unique_vals)>1):\n",
    "         thresholds = [(unique_vals[i] + unique_vals[i+1])/2 for i in range(n-1)]\n",
    "      else:\n",
    "         thresholds  = unique_vals\n",
    "\n",
    "\n",
    "\n",
    "      res ={}\n",
    "      for threshold in thresholds:\n",
    "\n",
    "         yes =[]\n",
    "         no =[]\n",
    "         for index,val in enumerate(vals):\n",
    "            if val > threshold:\n",
    "               yes.append(index)\n",
    "            else:\n",
    "               no.append(index)\n",
    "\n",
    "\n",
    "\n",
    "         yes_len = np.size(yes)\n",
    "         labels_yes = y[yes]\n",
    "         impurity_yes = giniImpurity(labels_yes)\n",
    "\n",
    "\n",
    "       \n",
    "\n",
    "         no_len = np.size(no)\n",
    "         labels_no = y[no]\n",
    "         impurity_no = giniImpurity(labels_no)\n",
    "\n",
    "        \n",
    "\n",
    "\n",
    "         avg_impurity = (yes_len * impurity_yes  + no_len * impurity_no)/(yes_len + no_len)\n",
    "\n",
    "       \n",
    "         res[threshold] = avg_impurity\n",
    "       \n",
    "      res_thresh_with_min_impurity = min(res,key=res.get)\n",
    "      res_min_impurity = res[res_thresh_with_min_impurity]\n",
    "\n",
    "      features_min_impurities.append(res_min_impurity)\n",
    "      features_corresponding_thresholds.append(res_thresh_with_min_impurity)\n",
    "\n",
    "   res_feature = np.argmin(features_min_impurities)\n",
    "   res_threshold = features_corresponding_thresholds[res_feature]\n",
    "\n",
    "   return res_feature,res_threshold,features_min_impurities[res_feature]"
   ]
  },
  {
   "cell_type": "code",
   "execution_count": 775,
   "id": "43c3b455",
   "metadata": {},
   "outputs": [
    {
     "name": "stdout",
     "output_type": "stream",
     "text": [
      "0\n",
      "8.5\n",
      "0.3\n"
     ]
    }
   ],
   "source": [
    "res_feature, res_threshold, best_gini = bestSplitFinder(X,y)\n",
    "print(res_feature)\n",
    "print(res_threshold)\n",
    "print(best_gini)"
   ]
  },
  {
   "cell_type": "markdown",
   "id": "5a68d2b4",
   "metadata": {},
   "source": [
    "# Decision Tree Node"
   ]
  },
  {
   "cell_type": "code",
   "execution_count": 776,
   "id": "928e85dc",
   "metadata": {},
   "outputs": [],
   "source": [
    "class Node:\n",
    "    def __init__(self,feature_index=None,threshold=None,left=None,right=None,value=None):\n",
    "        self.feature_index = feature_index\n",
    "        self.threshold = threshold\n",
    "        self.left = left\n",
    "        self.right = right\n",
    "        self.value =value\n",
    "\n",
    "    def is_leaf(self):\n",
    "        return self.left == None and self.right == None\n",
    "    \n",
    "    \n",
    "\n",
    "\n",
    "\n",
    "\n"
   ]
  },
  {
   "cell_type": "markdown",
   "id": "4328835c",
   "metadata": {},
   "source": [
    "# Building the Decision Tree"
   ]
  },
  {
   "cell_type": "code",
   "execution_count": 777,
   "id": "bcc728ab",
   "metadata": {},
   "outputs": [],
   "source": [
    "\n",
    "def build(features,labels,cur_depth,max_depth =100):\n",
    "    if len(np.unique(labels) )==1  or cur_depth == max_depth :\n",
    "        leaf_value = np.bincount(labels).argmax()\n",
    "        return Node(value = leaf_value)\n",
    "    \n",
    "\n",
    "    best_feature, best_threshold,_ = bestSplitFinder(features,labels)\n",
    "\n",
    "   \n",
    "\n",
    "\n",
    "    vals = features[:,best_feature]\n",
    "    yes =[]\n",
    "    no =[]\n",
    "    for index,val in enumerate(vals):\n",
    "\n",
    "       if val > best_threshold:\n",
    "          yes.append(index)\n",
    "       else:\n",
    "          no.append(index)\n",
    "\n",
    "\n",
    "    features_left = np.array(features[yes])\n",
    "    features_right = np.array(features[no])\n",
    "\n",
    "\n",
    "    labels_left = np.array(labels[yes])\n",
    "    labels_right = np.array(labels[no])\n",
    "\n",
    "\n",
    "\n",
    "\n",
    "\n",
    "\n",
    "\n",
    "    left_tree = build(features_left,labels_left,cur_depth+1,max_depth)\n",
    "    right_tree = build(features_right,labels_right,cur_depth+1,max_depth)\n",
    "\n",
    "    return Node(best_feature,best_threshold,left_tree,right_tree)\n",
    "\n",
    "\n",
    "    \n",
    "\n",
    "\n",
    "    \n",
    "    "
   ]
  },
  {
   "cell_type": "code",
   "execution_count": 778,
   "id": "8eaa774b",
   "metadata": {},
   "outputs": [],
   "source": [
    "max_depth = 100\n",
    "tree_root = build(X,y,0,max_depth)"
   ]
  },
  {
   "cell_type": "markdown",
   "id": "a7453b3a",
   "metadata": {},
   "source": [
    "# Printing the Decision Tree"
   ]
  },
  {
   "cell_type": "code",
   "execution_count": 779,
   "id": "0b219d3f",
   "metadata": {},
   "outputs": [
    {
     "name": "stdout",
     "output_type": "stream",
     "text": [
      "if Alchohol Content > 8.50:\n",
      "  if Alchohol Content > 25.75:\n",
      "    Predict: Whiskey \n",
      "  else:  # Alchohol Content <= 25.75\n",
      "    Predict: Wine \n",
      "else:  # Alchohol Content <= 8.50\n",
      "  Predict: Beer \n"
     ]
    }
   ],
   "source": [
    "features = ['Alchohol Content','Sugar','Color']\n",
    "root = tree_root\n",
    "depth = 0\n",
    "# node_n0 =1\n",
    "\n",
    "def printDecisionTree(node, depth=0):\n",
    "    indent = \"  \" * depth  # two spaces per depth level for clarity\n",
    "\n",
    "    if node.is_leaf():\n",
    "        print(f\"{indent}Predict: {label_decoding[node.value]} \")\n",
    "        return\n",
    "\n",
    "    feature = features[node.feature_index]\n",
    "    threshold = node.threshold\n",
    "\n",
    "    print(f\"{indent}if {feature} > {threshold:.2f}:\")\n",
    "    printDecisionTree(node.left, depth + 1)\n",
    "    \n",
    "    print(f\"{indent}else:  # {feature} <= {threshold:.2f}\")\n",
    "    printDecisionTree(node.right, depth + 1)\n",
    "    \n",
    "\n",
    "\n",
    "printDecisionTree(root,0)\n"
   ]
  },
  {
   "cell_type": "markdown",
   "id": "9dda3b53",
   "metadata": {},
   "source": [
    "# Testing "
   ]
  },
  {
   "cell_type": "code",
   "execution_count": 780,
   "id": "33d94557",
   "metadata": {},
   "outputs": [
    {
     "name": "stdout",
     "output_type": "stream",
     "text": [
      "depth 0  Feature 0   Threshold 8.5\n",
      "0\n",
      "depth 0  Feature 0   Threshold 8.5\n",
      "depth 1  Feature 0   Threshold 25.75\n",
      "2\n",
      "depth 0  Feature 0   Threshold 8.5\n",
      "depth 1  Feature 0   Threshold 25.75\n",
      "1\n"
     ]
    }
   ],
   "source": [
    "test_data = np.array([\n",
    "    [6.0, 2.1, 0],   # Expected: Beer\n",
    "    [39.0, 0.05, 1], # Expected: Whiskey\n",
    "    [13.0, 1.3, 1]   # Expected: Wine\n",
    "])\n",
    "\n",
    "\n",
    "predictions = []\n",
    "\n",
    "for test_x in test_data:\n",
    "    root = tree_root\n",
    "    depth =0\n",
    "    while not root.is_leaf():\n",
    "        print(f'depth {depth}  Feature {root.feature_index}   Threshold {root.threshold}')\n",
    "        depth = depth +1\n",
    "        if test_x[root.feature_index] > root.threshold:\n",
    "            root = root.left\n",
    "        else:\n",
    "            root = root.right\n",
    "\n",
    "    print(root.value)\n",
    "    predictions.append(label_decoding[root.value])"
   ]
  },
  {
   "cell_type": "code",
   "execution_count": 781,
   "id": "9e037f40",
   "metadata": {},
   "outputs": [
    {
     "name": "stdout",
     "output_type": "stream",
     "text": [
      "['Beer', 'Whiskey', 'Wine']\n"
     ]
    }
   ],
   "source": [
    "print(predictions)"
   ]
  },
  {
   "cell_type": "markdown",
   "id": "c8397e55",
   "metadata": {},
   "source": [
    "# Decsion Tree Class"
   ]
  },
  {
   "cell_type": "code",
   "execution_count": 782,
   "id": "fa87624f",
   "metadata": {},
   "outputs": [],
   "source": [
    "import numpy as np\n",
    "\n",
    "class DecisionTree:\n",
    "\n",
    "\n",
    "\n",
    "\n",
    "\n",
    "    def __init__(self,max_depth=5):\n",
    "        self.max_depth = max_depth\n",
    "        self.root = None\n",
    "    \n",
    "\n",
    "    class Node:\n",
    "        def __init__(self,feature_index=None,threshold=None,left=None,right=None,value=None):\n",
    "            self.feature_index = feature_index\n",
    "            self.threshold = threshold\n",
    "            self.left = left\n",
    "            self.right = right\n",
    "            self.value =value\n",
    "    \n",
    "        def is_leaf(self):\n",
    "            return self.left == None and self.right == None\n",
    "    \n",
    "\n",
    "    def fit(self,X,y):\n",
    "        self.root= self._build(X,y,0,self.max_depth)\n",
    "    \n",
    "\n",
    "    def _giniImpurity(self,labels):\n",
    "        n = np.size(labels)\n",
    "        _,counts = np.unique(labels,return_counts=True)\n",
    "        probabilites = counts/n\n",
    "\n",
    "        sum = 0\n",
    "        for p_i in probabilites:\n",
    "            sum += p_i **2\n",
    "\n",
    "        return 1 -sum\n",
    "\n",
    "    def _bestSplitFinder(self,X,y):\n",
    "        features_min_impurities = []\n",
    "        features_corresponding_thresholds = []\n",
    "\n",
    "\n",
    "        for col in range(X.shape[1]):\n",
    "           vals = X[:,col]\n",
    "           unique_vals = np.unique(vals)\n",
    "           n = np.size(unique_vals)\n",
    "           thresholds=[]\n",
    "           if(np.size(unique_vals)>1):\n",
    "              thresholds = [(unique_vals[i] + unique_vals[i+1])/2 for i in range(n-1)]\n",
    "           else:\n",
    "              thresholds  = unique_vals\n",
    "\n",
    "\n",
    "\n",
    "           res ={}\n",
    "           for threshold in thresholds:\n",
    "\n",
    "              yes =[]\n",
    "              no =[]\n",
    "              for index,val in enumerate(vals):\n",
    "                 if val > threshold:\n",
    "                    yes.append(index)\n",
    "                 else:\n",
    "                    no.append(index)\n",
    "\n",
    "\n",
    "\n",
    "              yes_len = np.size(yes)\n",
    "              labels_yes = y[yes]\n",
    "              impurity_yes =   self._giniImpurity(labels_yes)\n",
    "\n",
    "\n",
    "\n",
    "\n",
    "              no_len = np.size(no)\n",
    "              labels_no = y[no]\n",
    "              impurity_no = self._giniImpurity(labels_no)\n",
    "\n",
    "\n",
    "\n",
    "\n",
    "              avg_impurity = (yes_len * impurity_yes  + no_len * impurity_no)/(yes_len + no_len)\n",
    "\n",
    "\n",
    "              res[threshold] = avg_impurity\n",
    "\n",
    "           res_thresh_with_min_impurity = min(res,key=res.get)\n",
    "           res_min_impurity = res[res_thresh_with_min_impurity]\n",
    "\n",
    "           features_min_impurities.append(res_min_impurity)\n",
    "           features_corresponding_thresholds.append(res_thresh_with_min_impurity)\n",
    "\n",
    "        res_feature = np.argmin(features_min_impurities)\n",
    "        res_threshold = features_corresponding_thresholds[res_feature]\n",
    "\n",
    "        return res_feature,res_threshold,features_min_impurities[res_feature]\n",
    "\n",
    "    def _build(self,features,labels,cur_depth,max_depth =100):\n",
    "        if len(np.unique(labels) )==1  or cur_depth == max_depth :\n",
    "            leaf_value = np.bincount(labels).argmax()\n",
    "            return Node(value = leaf_value)\n",
    "\n",
    "\n",
    "        best_feature, best_threshold,_ = self._bestSplitFinder(features,labels)\n",
    "\n",
    "    \n",
    "\n",
    "\n",
    "        vals = features[:,best_feature]\n",
    "        yes =[]\n",
    "        no =[]\n",
    "        for index,val in enumerate(vals):\n",
    "\n",
    "           if val > best_threshold:\n",
    "              yes.append(index)\n",
    "           else:\n",
    "              no.append(index)\n",
    "\n",
    "\n",
    "        features_left = np.array(features[yes])\n",
    "        features_right = np.array(features[no])\n",
    "\n",
    "\n",
    "        labels_left = np.array(labels[yes])\n",
    "        labels_right = np.array(labels[no])\n",
    "\n",
    "\n",
    "\n",
    "\n",
    "\n",
    "\n",
    "\n",
    "        left_tree = self._build(features_left,labels_left,cur_depth+1,max_depth)\n",
    "        right_tree = self._build(features_right,labels_right,cur_depth+1,max_depth)\n",
    "\n",
    "        return Node(best_feature,best_threshold,left_tree,right_tree)\n",
    "    \n",
    "\n",
    "    def predict(self,X):\n",
    "        return [self.predict_one(x,self.root) for x in X]\n",
    "\n",
    "\n",
    "    def predict_one(self,x,root):\n",
    "       \n",
    "        \n",
    "        # depth =0\n",
    "        while not root.is_leaf():\n",
    "            # print(f'depth {depth}  Feature {root.feature_index}   Threshold {root.threshold}')\n",
    "            # depth = depth +1\n",
    "            if x[root.feature_index] > root.threshold:\n",
    "                root = root.left\n",
    "            else:\n",
    "                root = root.right\n",
    "\n",
    "        return root.value\n",
    "    \n",
    "    def printDecsionTree(self,features,labels):\n",
    "        self._printDecisionTree(self.root,features,labels,0)\n",
    "        \n",
    "    def _printDecisionTree(self,node, features,labels,depth=0):\n",
    "        indent = \"  \" * depth  # two spaces per depth level for clarity\n",
    "\n",
    "        if node.is_leaf():\n",
    "            print(f\"{indent}Predict: {labels[node.value]} \")\n",
    "            return\n",
    "\n",
    "        feature = features[node.feature_index]\n",
    "        threshold = node.threshold\n",
    "\n",
    "        print(f\"{indent}if {feature} > {threshold:.2f}:\")\n",
    "        self._printDecisionTree(node.left,features,labels, depth + 1)\n",
    "\n",
    "        print(f\"{indent}else:  # {feature} <= {threshold:.2f}\")\n",
    "        self._printDecisionTree(node.right,features,labels, depth + 1)\n",
    "\n",
    "  \n",
    "\n",
    "    \n",
    "    \n",
    "    \n",
    "    \n",
    "    "
   ]
  },
  {
   "cell_type": "code",
   "execution_count": 783,
   "id": "a8a47f34",
   "metadata": {},
   "outputs": [
    {
     "name": "stdout",
     "output_type": "stream",
     "text": [
      "Beer\n",
      "Whiskey\n",
      "Wine\n"
     ]
    }
   ],
   "source": [
    "myDecisionTree = DecisionTree(5)\n",
    "myDecisionTree.fit(X,y)\n",
    "precitions = myDecisionTree.predict(test_data)\n",
    "for x in precitions:\n",
    "    print(label_decoding[x])\n",
    "\n"
   ]
  },
  {
   "cell_type": "code",
   "execution_count": 784,
   "id": "ff14efbd",
   "metadata": {},
   "outputs": [
    {
     "name": "stdout",
     "output_type": "stream",
     "text": [
      "if Alchohol Content > 8.50:\n",
      "  if Alchohol Content > 25.75:\n",
      "    Predict: Whiskey \n",
      "  else:  # Alchohol Content <= 25.75\n",
      "    Predict: Wine \n",
      "else:  # Alchohol Content <= 8.50\n",
      "  Predict: Beer \n"
     ]
    }
   ],
   "source": [
    "myDecisionTree.printDecsionTree(features,[\"Beer\",\"Wine\",\"Whiskey\"])"
   ]
  },
  {
   "cell_type": "markdown",
   "id": "bafc9ec1",
   "metadata": {},
   "source": [
    "# Testing on some famous Classification Dataset"
   ]
  },
  {
   "cell_type": "code",
   "execution_count": 785,
   "id": "6298625d",
   "metadata": {},
   "outputs": [],
   "source": [
    "from sklearn.datasets import load_iris\n",
    "X, y = load_iris(return_X_y=True)"
   ]
  },
  {
   "cell_type": "code",
   "execution_count": 786,
   "id": "4ce696e7",
   "metadata": {},
   "outputs": [
    {
     "data": {
      "text/plain": [
       "array([0, 0, 0, 0, 0, 0, 0, 0, 0, 0, 0, 0, 0, 0, 0, 0, 0, 0, 0, 0, 0, 0,\n",
       "       0, 0, 0, 0, 0, 0, 0, 0, 0, 0, 0, 0, 0, 0, 0, 0, 0, 0, 0, 0, 0, 0,\n",
       "       0, 0, 0, 0, 0, 0, 1, 1, 1, 1, 1, 1, 1, 1, 1, 1, 1, 1, 1, 1, 1, 1,\n",
       "       1, 1, 1, 1, 1, 1, 1, 1, 1, 1, 1, 1, 1, 1, 1, 1, 1, 1, 1, 1, 1, 1,\n",
       "       1, 1, 1, 1, 1, 1, 1, 1, 1, 1, 1, 1, 2, 2, 2, 2, 2, 2, 2, 2, 2, 2,\n",
       "       2, 2, 2, 2, 2, 2, 2, 2, 2, 2, 2, 2, 2, 2, 2, 2, 2, 2, 2, 2, 2, 2,\n",
       "       2, 2, 2, 2, 2, 2, 2, 2, 2, 2, 2, 2, 2, 2, 2, 2, 2, 2])"
      ]
     },
     "execution_count": 786,
     "metadata": {},
     "output_type": "execute_result"
    }
   ],
   "source": [
    "y"
   ]
  },
  {
   "cell_type": "code",
   "execution_count": 787,
   "id": "ee59b2cb",
   "metadata": {},
   "outputs": [],
   "source": [
    "## Dividing the dataset into train and test\n",
    "\n",
    "n = len(X)\n",
    "n_train = int(0.80 * n)\n",
    "\n",
    "X_train = X[0:n_train,:]\n",
    "y_train  = y[0:n_train]\n",
    "\n",
    "X_test = X[n_train:,:]\n",
    "y_test =y[n_train:]"
   ]
  },
  {
   "cell_type": "code",
   "execution_count": 788,
   "id": "36968475",
   "metadata": {},
   "outputs": [],
   "source": [
    "myDecisionTree = DecisionTree(40)\n",
    "myDecisionTree.fit(X_train,y_train)\n",
    "predictions  = myDecisionTree.predict(X_test)\n"
   ]
  },
  {
   "cell_type": "code",
   "execution_count": 789,
   "id": "7b5596c5",
   "metadata": {},
   "outputs": [],
   "source": [
    "def accuracy(y,y_hat):\n",
    "    return np.sum(y==y_hat)/len(y)"
   ]
  },
  {
   "cell_type": "code",
   "execution_count": 790,
   "id": "dbf0d5b4",
   "metadata": {},
   "outputs": [
    {
     "name": "stdout",
     "output_type": "stream",
     "text": [
      "0.7333333333333333\n"
     ]
    }
   ],
   "source": [
    "print(accuracy(y_test,predictions))"
   ]
  },
  {
   "cell_type": "code",
   "execution_count": 791,
   "id": "aa0780bd",
   "metadata": {},
   "outputs": [
    {
     "name": "stdout",
     "output_type": "stream",
     "text": [
      "if petal length > 2.45:\n",
      "  if petal length > 4.95:\n",
      "    if petal width > 1.75:\n",
      "      Predict: Iris virginica \n",
      "    else:  # petal width <= 1.75\n",
      "      if sepal width > 2.45:\n",
      "        Predict: Iris versicolor \n",
      "      else:  # sepal width <= 2.45\n",
      "        Predict: Iris virginica \n",
      "  else:  # petal length <= 4.95\n",
      "    if sepal length > 4.95:\n",
      "      Predict: Iris versicolor \n",
      "    else:  # sepal length <= 4.95\n",
      "      if sepal width > 2.45:\n",
      "        Predict: Iris virginica \n",
      "      else:  # sepal width <= 2.45\n",
      "        Predict: Iris versicolor \n",
      "else:  # petal length <= 2.45\n",
      "  Predict: Iris setosa \n"
     ]
    }
   ],
   "source": [
    "features = ['sepal length','sepal width', 'petal length', 'petal width']\n",
    "labels= ['Iris setosa', 'Iris versicolor', 'Iris virginica']\n",
    "myDecisionTree.printDecsionTree(features,labels)"
   ]
  }
 ],
 "metadata": {
  "kernelspec": {
   "display_name": "base",
   "language": "python",
   "name": "python3"
  },
  "language_info": {
   "codemirror_mode": {
    "name": "ipython",
    "version": 3
   },
   "file_extension": ".py",
   "mimetype": "text/x-python",
   "name": "python",
   "nbconvert_exporter": "python",
   "pygments_lexer": "ipython3",
   "version": "3.8.3"
  }
 },
 "nbformat": 4,
 "nbformat_minor": 5
}
